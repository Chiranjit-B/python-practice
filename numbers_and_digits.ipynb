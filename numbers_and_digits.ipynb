{
  "nbformat": 4,
  "nbformat_minor": 0,
  "metadata": {
    "colab": {
      "provenance": []
    },
    "kernelspec": {
      "name": "python3",
      "display_name": "Python 3"
    },
    "language_info": {
      "name": "python"
    }
  },
  "cells": [
    {
      "cell_type": "code",
      "source": [
        "n = int(input(\"\"))\n",
        "rev = 0\n",
        "while n>0:\n",
        "  rem =  n%10\n",
        "  rev = rev*10+rem\n",
        "  n   = n//10\n",
        "\n",
        "\n",
        "print(rev)"
      ],
      "metadata": {
        "id": "H7E-R73aHYYp",
        "colab": {
          "base_uri": "https://localhost:8080/"
        },
        "outputId": "7136c4bc-8f03-4778-f545-e41458d175d3"
      },
      "execution_count": 1,
      "outputs": [
        {
          "output_type": "stream",
          "name": "stdout",
          "text": [
            "457\n",
            "754\n"
          ]
        }
      ]
    },
    {
      "cell_type": "code",
      "source": [
        "n = int(input(\"\"))\n",
        "num = n\n",
        "rev = 0\n",
        "while n>0:\n",
        "  rem =  n%10\n",
        "  rev = rev*10+rem\n",
        "  n   = n//10\n",
        "\n",
        "\n",
        "if rev == num :\n",
        "  print(\"its palindrome\")\n",
        "else :\n",
        "  print(\"not a palindrom\")\n",
        "\n"
      ],
      "metadata": {
        "colab": {
          "base_uri": "https://localhost:8080/"
        },
        "id": "bVdkotXfWfv1",
        "outputId": "b9ab416a-7db6-4e8f-e3a8-4703c1dd10f5"
      },
      "execution_count": 2,
      "outputs": [
        {
          "output_type": "stream",
          "name": "stdout",
          "text": [
            "545\n",
            "its palindrome\n"
          ]
        }
      ]
    },
    {
      "cell_type": "code",
      "source": [
        "n = int(input(\"\"))\n",
        "num = n\n",
        "f = 0\n",
        "while n > 0 :\n",
        "  rem = n % 10\n",
        "  n = n // 10\n",
        "  f = f + rem**3\n",
        "\n",
        "\n",
        "if f == num :\n",
        "  print(\"armstrong number\")\n",
        "else :\n",
        "  print(\"not an armstrong number\")"
      ],
      "metadata": {
        "colab": {
          "base_uri": "https://localhost:8080/"
        },
        "id": "pj7RYoKpd3vH",
        "outputId": "a7bbf5af-3df3-4c40-9e9d-18fc0db677dd"
      },
      "execution_count": 3,
      "outputs": [
        {
          "output_type": "stream",
          "name": "stdout",
          "text": [
            "370\n",
            "armstrong number\n"
          ]
        }
      ]
    },
    {
      "cell_type": "code",
      "source": [
        "n = int(input(\"\"))\n",
        "num = n\n",
        "pro = 1\n",
        "while n > 0 :\n",
        "  rem = n % 10\n",
        "  n = n // 10\n",
        "  pro *= rem\n",
        "\n",
        "print(pro)"
      ],
      "metadata": {
        "colab": {
          "base_uri": "https://localhost:8080/"
        },
        "id": "BpxeHWUeiCPo",
        "outputId": "f30266b7-f582-4a56-eaad-2125729723c2"
      },
      "execution_count": 4,
      "outputs": [
        {
          "output_type": "stream",
          "name": "stdout",
          "text": [
            "67\n",
            "42\n"
          ]
        }
      ]
    },
    {
      "cell_type": "code",
      "source": [
        "n = int(input(\"\"))\n",
        "num = n\n",
        "f= 0\n",
        "i = int (input(\"\"))\n",
        "pro = 1\n",
        "while n > 0 :\n",
        "  rem = n % 10\n",
        "  n = n // 10\n",
        "  if rem == i :\n",
        "    f += 1\n",
        "print(f)"
      ],
      "metadata": {
        "colab": {
          "base_uri": "https://localhost:8080/"
        },
        "id": "-7rPSYmhmkjK",
        "outputId": "f3df15da-84df-4215-8308-595b2c42e3af"
      },
      "execution_count": 5,
      "outputs": [
        {
          "output_type": "stream",
          "name": "stdout",
          "text": [
            "65\n",
            "8\n",
            "0\n"
          ]
        }
      ]
    },
    {
      "cell_type": "code",
      "source": [
        "n = int(input(\"\"))\n",
        "i = 2\n",
        "f = 1\n",
        "while i <= n/2 :\n",
        "  if n % i== 0 :\n",
        "    f += 1\n",
        "    break\n",
        "  i+=1\n",
        "if f > 1 :\n",
        "  print(\"Not a Prime Number\")\n",
        "else :\n",
        "  print(\"Prime Number\")"
      ],
      "metadata": {
        "colab": {
          "base_uri": "https://localhost:8080/"
        },
        "id": "TygFEOSfnYdL",
        "outputId": "b3891362-393a-42fb-ade7-1006b29c383d"
      },
      "execution_count": 6,
      "outputs": [
        {
          "output_type": "stream",
          "name": "stdout",
          "text": [
            "47\n",
            "Prime Number\n"
          ]
        }
      ]
    },
    {
      "cell_type": "code",
      "source": [
        "n = int(input(\"\"))\n",
        "for i in range(n):\n",
        "  f = 1\n",
        "  for j in range (2,i//2 + 1):\n",
        "    if i % j == 0 :\n",
        "      f += 1\n",
        "      break\n",
        "  if f == 1 :\n",
        "    print(i)\n"
      ],
      "metadata": {
        "colab": {
          "base_uri": "https://localhost:8080/"
        },
        "id": "L7yttEBjoB16",
        "outputId": "69b0a02b-2527-4ccd-866d-a450d1068817"
      },
      "execution_count": 7,
      "outputs": [
        {
          "output_type": "stream",
          "name": "stdout",
          "text": [
            "37\n",
            "0\n",
            "1\n",
            "2\n",
            "3\n",
            "5\n",
            "7\n",
            "11\n",
            "13\n",
            "17\n",
            "19\n",
            "23\n",
            "29\n",
            "31\n"
          ]
        }
      ]
    },
    {
      "cell_type": "code",
      "source": [
        "m = int(input(\"\"))\n",
        "n = int(input(\"\"))\n",
        "\n",
        "i = 1\n",
        "for i in range (1, m*n + 1):\n",
        "  if i%m == 0 and i%n == 0 :\n",
        "    lcm = i\n",
        "    break\n",
        "print(lcm)"
      ],
      "metadata": {
        "colab": {
          "base_uri": "https://localhost:8080/"
        },
        "id": "oqV49gtxrSWb",
        "outputId": "5057605e-4ad4-4946-9e04-09488168025d"
      },
      "execution_count": 13,
      "outputs": [
        {
          "output_type": "stream",
          "name": "stdout",
          "text": [
            "75\n",
            "150\n",
            "150\n"
          ]
        }
      ]
    },
    {
      "cell_type": "code",
      "source": [
        "from re import I\n",
        "m = int(input(\"\"))\n",
        "n = int(input(\"\"))\n",
        "\n",
        "if (m<n):\n",
        "  l = m\n",
        "else :\n",
        "  l = n\n",
        "\n",
        "for i in range (l,1,-1):\n",
        "  if m%i == 0 and n % i == 0 :\n",
        "    gcd = i\n",
        "    break\n",
        "\n",
        "print(gcd)\n",
        "\n"
      ],
      "metadata": {
        "colab": {
          "base_uri": "https://localhost:8080/"
        },
        "id": "QYhE4OvTsWCY",
        "outputId": "c1616252-ad74-4582-d49d-99f380ff8a14"
      },
      "execution_count": 18,
      "outputs": [
        {
          "output_type": "stream",
          "name": "stdout",
          "text": [
            "24\n",
            "36\n",
            "12\n"
          ]
        }
      ]
    },
    {
      "cell_type": "code",
      "source": [],
      "metadata": {
        "id": "60DKIyxNtskp"
      },
      "execution_count": null,
      "outputs": []
    }
  ]
}